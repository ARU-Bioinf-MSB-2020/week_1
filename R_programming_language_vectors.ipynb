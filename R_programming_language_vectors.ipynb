{
  "cells": [
    {
      "cell_type": "markdown",
      "metadata": {
        "id": "view-in-github",
        "colab_type": "text"
      },
      "source": [
        "<a href=\"https://colab.research.google.com/github/ARU-Bioinf-MSB-2020/week_1/blob/main/R_programming_language_vectors.ipynb\" target=\"_parent\"><img src=\"https://colab.research.google.com/assets/colab-badge.svg\" alt=\"Open In Colab\"/></a>"
      ]
    },
    {
      "cell_type": "markdown",
      "source": [
        "# R programming language - Vectors"
      ],
      "metadata": {
        "id": "c0mVUY01sUX_"
      },
      "id": "c0mVUY01sUX_"
    },
    {
      "cell_type": "markdown",
      "source": [
        "Understanding vectors is crucial before learning about the other data structures in R. The tutorials below will walk you through the basic concepts you need to understand before progressing any further."
      ],
      "metadata": {
        "id": "xDoKx5-11YAV"
      },
      "id": "xDoKx5-11YAV"
    },
    {
      "cell_type": "markdown",
      "source": [
        "## Creating vectors\n",
        "\n",
        "To manually create a vector you can use the` c()` function (short for combine) which can take an arbitrary number of arguments and will combine them into a single vector.  The only parameters that need to be passed to `c() `here are the data values that we want to combine. For example, let's make a vector containing a set of chromosome numbers."
      ],
      "metadata": {
        "id": "NFPt9NR41rwe"
      },
      "id": "NFPt9NR41rwe"
    },
    {
      "cell_type": "code",
      "source": [
        "Chr <- c(19, 22, 21, 18) \n",
        "Chr"
      ],
      "metadata": {
        "id": "f9uJFW0a1yLf"
      },
      "id": "f9uJFW0a1yLf",
      "execution_count": null,
      "outputs": []
    },
    {
      "cell_type": "markdown",
      "source": [
        "If words are used as data values they must be surrounded by quotes (either single or double - there's no difference in function, though pairs of quotes must be of the same type)."
      ],
      "metadata": {
        "id": "tMg_oLmJ122n"
      },
      "id": "tMg_oLmJ122n"
    },
    {
      "cell_type": "code",
      "source": [
        "Ref <- c(\"A\",\"G\",\"A\",\"T\")\n",
        "Ref"
      ],
      "metadata": {
        "id": "ewOKGwgK17XL"
      },
      "id": "ewOKGwgK17XL",
      "execution_count": null,
      "outputs": []
    },
    {
      "cell_type": "markdown",
      "source": [
        "####*Exercise: If quotes are not used, R will try and find the data structure that you have referred to. Remove the quotes from the example above.*"
      ],
      "metadata": {
        "id": "N1nqEIPu2Ajr"
      },
      "id": "N1nqEIPu2Ajr"
    },
    {
      "cell_type": "markdown",
      "source": [
        "To access the whole data structure just type the name of it as before or you can use `head()` to see just the first few lines of the vector. "
      ],
      "metadata": {
        "id": "S5VCNQ412RiO"
      },
      "id": "S5VCNQ412RiO"
    },
    {
      "cell_type": "code",
      "source": [
        "Ref <- c(\"C\",\"G\",\"A\",\"T\",\"C\",\"G\",\"A\",\"T\",\"C\",\"G\",\"A\",\"T\",\"C\",\"G\",\"A\",\"T\",\"C\",\"G\",\"A\",\"T\",\"C\",\"G\",\"A\",\"T\",\"C\",\"G\",\"A\",\"T\",\"C\",\"G\",\"A\",\"T\",\"C\",\"G\",\"A\",\"T\",\"C\",\"G\",\"A\",\"T\")\n",
        "head(Ref)\n"
      ],
      "metadata": {
        "colab": {
          "base_uri": "https://localhost:8080/",
          "height": 34
        },
        "id": "LX6Vy3F42V42",
        "outputId": "91ca9f8c-e1a5-4086-fa38-606797bdb1c4"
      },
      "id": "LX6Vy3F42V42",
      "execution_count": null,
      "outputs": [
        {
          "output_type": "display_data",
          "data": {
            "text/plain": [
              "[1] \"C\" \"G\" \"A\" \"T\" \"C\" \"G\""
            ],
            "text/latex": "\\begin{enumerate*}\n\\item 'C'\n\\item 'G'\n\\item 'A'\n\\item 'T'\n\\item 'C'\n\\item 'G'\n\\end{enumerate*}\n",
            "text/markdown": "1. 'C'\n2. 'G'\n3. 'A'\n4. 'T'\n5. 'C'\n6. 'G'\n\n\n",
            "text/html": [
              "<style>\n",
              ".list-inline {list-style: none; margin:0; padding: 0}\n",
              ".list-inline>li {display: inline-block}\n",
              ".list-inline>li:not(:last-child)::after {content: \"\\00b7\"; padding: 0 .5ex}\n",
              "</style>\n",
              "<ol class=list-inline><li>'C'</li><li>'G'</li><li>'A'</li><li>'T'</li><li>'C'</li><li>'G'</li></ol>\n"
            ]
          },
          "metadata": {}
        }
      ]
    },
    {
      "cell_type": "markdown",
      "source": [
        "## Data types in vectors\n",
        "Within a vector all of the values must be of the same ‘type’.  There are four basic data types in R:\n",
        "\n",
        "\n",
        "*   Numeric - An integer or floating point number\n",
        "*   Character - Any amount of text from single letter to whole essay\n",
        "*   Logical - TRUE or FALSE values\n",
        "*   Factor - A categorised set of character values\n",
        "\n",
        "Try and think about what the data categories might mean.\n",
        "\n",
        "Factors are the default way which R stores many pieces of text.  They are used when grouping data for statistical or plotting operations and in many cases are interchangeable with characters, but there are differences, especially when merging or sorting data which can cause problems if you use the wrong type for this kind of data.\n",
        "\n",
        "\n",
        "\n",
        "To see what type of data you’re storing in a vector you can either look in the workspace tab of RStudio or you can use the class function.\n",
        "\n"
      ],
      "metadata": {
        "id": "XNREx2IH2jbk"
      },
      "id": "XNREx2IH2jbk"
    },
    {
      "cell_type": "code",
      "source": [
        "class(c(1,2,3))\n",
        "class(c(\"A\",\"G\",\"T\"))\n",
        "class(c(TRUE,TRUE,FALSE))"
      ],
      "metadata": {
        "id": "x4rmKN3F3Kex"
      },
      "id": "x4rmKN3F3Kex",
      "execution_count": null,
      "outputs": []
    },
    {
      "cell_type": "markdown",
      "source": [
        "## Functions for making vectors\n",
        "Although you can make vectors manually using the `c() `function, there are also some specialised functions for making vectors.  These provide a quick and easy way to make up commonly used series of values.\n",
        "\n",
        "\n",
        "\n",
        "The `seq()` function can be used to make up arithmetic series of values.  You can specify either a start, end and increment (by) value, or a start, increment (by) and length (length.out) and the function will make up an appropriate vector for you. "
      ],
      "metadata": {
        "id": "RJ-yuCQm3S_E"
      },
      "id": "RJ-yuCQm3S_E"
    },
    {
      "cell_type": "code",
      "source": [
        "seq(from=5,to=10,by=0.5)\n",
        "seq(from=1,by=2,length.out=10)"
      ],
      "metadata": {
        "id": "s8_ETSH53bwL"
      },
      "id": "s8_ETSH53bwL",
      "execution_count": null,
      "outputs": []
    },
    {
      "cell_type": "markdown",
      "source": [
        "The `rep()` function simply repeats a value a specified number of times."
      ],
      "metadata": {
        "id": "ChjUZ-La3gLc"
      },
      "id": "ChjUZ-La3gLc"
    },
    {
      "cell_type": "code",
      "source": [
        "rep(\"1\",5)"
      ],
      "metadata": {
        "id": "93UCofWv3liL"
      },
      "id": "93UCofWv3liL",
      "execution_count": null,
      "outputs": []
    },
    {
      "cell_type": "markdown",
      "source": [
        "Finally, there is a special operator for creating vectors of sequential integers.  You simply separate the lower and higher values by a colon to generate a vector of the intervening values."
      ],
      "metadata": {
        "id": "00iiuX8_3wwp"
      },
      "id": "00iiuX8_3wwp"
    },
    {
      "cell_type": "code",
      "source": [
        "10:20"
      ],
      "metadata": {
        "colab": {
          "base_uri": "https://localhost:8080/",
          "height": 34
        },
        "id": "Lj71yIyD30HL",
        "outputId": "ee7c35c3-6ce8-4e0a-c1f0-f75c87de8f32"
      },
      "id": "Lj71yIyD30HL",
      "execution_count": null,
      "outputs": [
        {
          "output_type": "display_data",
          "data": {
            "text/plain": [
              " [1] 10 11 12 13 14 15 16 17 18 19 20"
            ],
            "text/latex": "\\begin{enumerate*}\n\\item 10\n\\item 11\n\\item 12\n\\item 13\n\\item 14\n\\item 15\n\\item 16\n\\item 17\n\\item 18\n\\item 19\n\\item 20\n\\end{enumerate*}\n",
            "text/markdown": "1. 10\n2. 11\n3. 12\n4. 13\n5. 14\n6. 15\n7. 16\n8. 17\n9. 18\n10. 19\n11. 20\n\n\n",
            "text/html": [
              "<style>\n",
              ".list-inline {list-style: none; margin:0; padding: 0}\n",
              ".list-inline>li {display: inline-block}\n",
              ".list-inline>li:not(:last-child)::after {content: \"\\00b7\"; padding: 0 .5ex}\n",
              "</style>\n",
              "<ol class=list-inline><li>10</li><li>11</li><li>12</li><li>13</li><li>14</li><li>15</li><li>16</li><li>17</li><li>18</li><li>19</li><li>20</li></ol>\n"
            ]
          },
          "metadata": {}
        }
      ]
    },
    {
      "cell_type": "markdown",
      "source": [
        "You can also combine these functions with` c()` to make up more complicated vectors"
      ],
      "metadata": {
        "id": "BGO8OaIN33XY"
      },
      "id": "BGO8OaIN33XY"
    },
    {
      "cell_type": "markdown",
      "source": [
        "## Accessing vector subsets\n",
        "To access specific positions in a vector you can put square brackets after it, and then use a vector of the index positions you want to retrieve.  Note that unlike most other programming languages index counts in R start at 1 and not 0. To view the 2nd value in the data structure:"
      ],
      "metadata": {
        "id": "jVZL5YHQrxKT"
      },
      "id": "jVZL5YHQrxKT"
    },
    {
      "cell_type": "code",
      "source": [
        "Ref <- c(\"A\",\"G\",\"A\",\"T\")\n",
        "Ref[2]    "
      ],
      "metadata": {
        "id": "YVwM27x3r1Ti"
      },
      "id": "YVwM27x3r1Ti",
      "execution_count": null,
      "outputs": []
    },
    {
      "cell_type": "markdown",
      "source": [
        "Note, that in this instance the number 2 in the above expression is actually just a shortcut for c(2), so what we’re pulling out are a vector of index positions.  We can therefore also use the automated ways to make vectors of integers to easily pull out larger subsets.  To view a range of values we could use the lower:higher notation we saw above: "
      ],
      "metadata": {
        "id": "qdqWh9qYr7Y0"
      },
      "id": "qdqWh9qYr7Y0"
    },
    {
      "cell_type": "code",
      "source": [
        "Ref <- c(\"A\",\"G\",\"A\",\"T\")\n",
        "Ref[2:4]"
      ],
      "metadata": {
        "id": "hfMQ66nAsAma"
      },
      "id": "hfMQ66nAsAma",
      "execution_count": null,
      "outputs": []
    },
    {
      "cell_type": "markdown",
      "source": [
        "We should think of the statement above as two separate operations.  We use 2:4 to make a vector with 2,3,4 in it, and then we put that into square brackets to select the corresponding values from Ref. To view or select non-adjacent values the c() function can be used again. To view the 2nd and the 4th values:"
      ],
      "metadata": {
        "id": "PwRZuB39sCuH"
      },
      "id": "PwRZuB39sCuH"
    },
    {
      "cell_type": "code",
      "source": [
        "Ref <- c(\"A\",\"G\",\"A\",\"T\")\n",
        "Ref [c(2,4)]"
      ],
      "metadata": {
        "id": "L5sbtJYPsFPz"
      },
      "id": "L5sbtJYPsFPz",
      "execution_count": null,
      "outputs": []
    },
    {
      "cell_type": "markdown",
      "source": [
        "## Accessing vectors using names\n",
        "In all R data structures you have the option of assigning names to numeric positions so that you can use the name to access the data instead of the position.  For vectors you read and assign names using the names function.  When you first create a vector there won’t be any names associated with it, but you can assign some and then use them in the places where you would otherwise use the positions – using the same square bracket notation.\n",
        "\n",
        "We assign names by treating the function as a variable and assigning data to it.  This style of assignment is very common in R. To illustrate this let's take some base positions and assign a reference allele to them."
      ],
      "metadata": {
        "id": "WP6PF41TsI5E"
      },
      "id": "WP6PF41TsI5E"
    },
    {
      "cell_type": "code",
      "source": [
        "c(112,134,157,187) -> Position\n",
        "c(\"A\",\"G\",\"C\",\"T\") -> Refs\n",
        "names(Position) <-c(Refs)\n",
        "Position"
      ],
      "metadata": {
        "id": "mOXs4SEJsNqj"
      },
      "id": "mOXs4SEJsNqj",
      "execution_count": null,
      "outputs": []
    },
    {
      "cell_type": "markdown",
      "source": [
        "We now see that the names are associated with the values in the vector.\n",
        "\n",
        "We can also use the names to retrieve the corresponding values.  Even though names are assigned we can still use index positions too."
      ],
      "metadata": {
        "id": "cgZ0BA2rsQYa"
      },
      "id": "cgZ0BA2rsQYa"
    },
    {
      "cell_type": "markdown",
      "source": [
        "#### *Question: Fill in the missing space to call value 112 in the vector position by name in the code above*\n",
        "\n"
      ],
      "metadata": {
        "id": "KkRKYytPsV6S"
      },
      "id": "KkRKYytPsV6S"
    },
    {
      "cell_type": "code",
      "source": [
        " [\" \"]"
      ],
      "metadata": {
        "id": "eIZ6uwwHsiEb"
      },
      "id": "eIZ6uwwHsiEb",
      "execution_count": null,
      "outputs": []
    },
    {
      "cell_type": "markdown",
      "source": [
        "## Vectorised operations\n",
        "The other big difference between R and other programming languages is that normal operations are designed to be applied to whole vectors rather than individual values.  This means that you can very quickly and easily apply changes to whole sets of data without having to write complex code to loop through individual values.\n",
        "\n",
        "Imagine we wanted to add a single bp to the position of all the variants in the dataset in the last tutorial then we can do this using a single operation."
      ],
      "metadata": {
        "id": "_pbRnPlusv9L"
      },
      "id": "_pbRnPlusv9L"
    },
    {
      "cell_type": "code",
      "source": [
        "c(112,134,157,187) -> Position\n",
        "Position + 1"
      ],
      "metadata": {
        "id": "sIFFcrqBs22j"
      },
      "id": "sIFFcrqBs22j",
      "execution_count": null,
      "outputs": []
    },
    {
      "cell_type": "markdown",
      "source": [
        "You can also use two vectors in any mathematical operation and the calculation will be performed on the equivalent positions between the two vectors.  If one vector is shorter than the other then the calculation will ‘wrap round’ and start again at the beginning (but you will get a warning if the longer vector’s length isn’t a multiple of the shorter vector’s length)."
      ],
      "metadata": {
        "id": "V8JXnNYHs6Fi"
      },
      "id": "V8JXnNYHs6Fi"
    },
    {
      "cell_type": "code",
      "source": [
        "x <- 1:10\n",
        "y <- 21:30\n",
        "x+y"
      ],
      "metadata": {
        "id": "IKuR78j6s8vi"
      },
      "id": "IKuR78j6s8vi",
      "execution_count": null,
      "outputs": []
    },
    {
      "cell_type": "markdown",
      "source": [
        "\n",
        "It is important to understand how operations involving two vectors work since this ends up being a critical aspect of many parts of R.  The basic rules are that if two vectors are the same length, then equivalent indices are paired together."
      ],
      "metadata": {
        "id": "YalunUNYs_kM"
      },
      "id": "YalunUNYs_kM"
    }
  ],
  "metadata": {
    "kernelspec": {
      "display_name": "R",
      "language": "R",
      "name": "ir"
    },
    "language_info": {
      "codemirror_mode": "r",
      "file_extension": ".r",
      "mimetype": "text/x-r-source",
      "name": "R",
      "pygments_lexer": "r",
      "version": "3.5.1"
    },
    "colab": {
      "name": "R_programming_language_vectors.ipynb",
      "provenance": [],
      "collapsed_sections": [],
      "toc_visible": true,
      "include_colab_link": true
    }
  },
  "nbformat": 4,
  "nbformat_minor": 5
}