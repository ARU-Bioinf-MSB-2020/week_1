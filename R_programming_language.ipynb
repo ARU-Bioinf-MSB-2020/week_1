{
  "cells": [
    {
      "cell_type": "markdown",
      "metadata": {
        "id": "view-in-github",
        "colab_type": "text"
      },
      "source": [
        "<a href=\"https://colab.research.google.com/github/ARU-Bioinf-MSB-2020/week_1/blob/main/R_programming_language.ipynb\" target=\"_parent\"><img src=\"https://colab.research.google.com/assets/colab-badge.svg\" alt=\"Open In Colab\"/></a>"
      ]
    },
    {
      "cell_type": "markdown",
      "source": [
        "# R programming language"
      ],
      "metadata": {
        "id": "c0mVUY01sUX_"
      },
      "id": "c0mVUY01sUX_"
    },
    {
      "cell_type": "markdown",
      "source": [
        "![picture](https://www.dropbox.com/s/g1thp9n3j3u1tpe/prof_jones.gif?dl=1)\n",
        "<br>\n",
        "*The importance of learning statistical analysis for yourself!*\n",
        "\n",
        "\n",
        "\n",
        "\n",
        "\n",
        "\n",
        "\n"
      ],
      "metadata": {
        "id": "jOU0atdVsvsz"
      },
      "id": "jOU0atdVsvsz"
    },
    {
      "cell_type": "markdown",
      "source": [
        "## Overview\n",
        "R is a popular language and environment that allows powerful and fast manipulation of data, offering many statistical and graphical options.\n",
        "\n",
        "This course aims to introduce R as a tool for statistics and graphics, with the main aim being to become comfortable with the R environment. It will focus on entering and manipulating data in R and producing simple graphs. A few functions for basic statistics will be briefly introduced, but statistical functions will not be covered in detail. The example of a variant call format (vcf) file is used throughout to illustrate the immediate application to medical genetics.\n",
        "\n",
        "## Audience\n",
        "This course is aimed at students or early researchers beginning to use statistics and data visualisation in their studies/research who wish to learn more about the R programming language. No prior knowledge of R is required, but undergraduate level knowledge of genetics would be useful.\n",
        "\n",
        "## What is R?\n",
        "The official R project web page describes R as a ' language and environment for statistical computing and graphics'. It can be daunting if you haven't done any programming before but it is worth taking some time to familiarise yourself with the R environment as once you have grasped some of the basics it can be a very useful tool.  A wide variety of statistical functions come with the default install and there are many other packages that can be installed if required. \n",
        "\n",
        "It is very quick and easy to produce graphs with default parameters for a quick view of your data and there are all manner of parameters that can be specified to customise your graphs. R is often used to perform analysis and produce graphs for publication.\n",
        "\n",
        "### Good things about R\n",
        "*   It's free\n",
        "*   It works on all platforms\n",
        "*   It can deal with much larger datasets than Excel for example\n",
        "*   Graphs can be produced to your own specification\n",
        "*   It can be used to perform powerful statistical analysis\n",
        "*   It is well supported and documented\n",
        "\n",
        "### Bad things about R\n",
        "*   It can struggle to cope with extremely large datasets\n",
        "*   The environment can be daunting if you don't have any programming experience \n",
        "*   It has a rather unhelpful name when it comes to googling problems (though you can use http://www.rseek.org/ or google ‘R help forum’ and try that instead).\n",
        "\n",
        "## Data in VCF format\n",
        "This course will make use of data in the appearance of a variant call format (VCF) file that will be familiar to students and researchers in clinical bioinformatics. If this data format is unfamiliar to you please complete the \"[Understanding variant call format](https://www.ebi.ac.uk/training/online/courses/human-genetic-variation-introduction/variant-identification-and-analysis/understanding-vcf-format/)\" tutorial from EBI"
      ],
      "metadata": {
        "id": "22kKYOgy1q1b"
      },
      "id": "22kKYOgy1q1b"
    },
    {
      "cell_type": "markdown",
      "source": [
        "# Basic commands in R\n",
        "In this section we will go over some very basic commands that we can issue in R.\n",
        "\n",
        "The console can work just like a calculator to do addition and division. \n",
        "\n",
        "Type `8 + 3` and press run the code cell. It doesn't matter whether there are spaces between the values or not."
      ],
      "metadata": {
        "id": "Osbzc26EvMFj"
      },
      "id": "Osbzc26EvMFj"
    },
    {
      "cell_type": "code",
      "source": [
        "8 + 3"
      ],
      "metadata": {
        "colab": {
          "base_uri": "https://localhost:8080/",
          "height": 34
        },
        "id": "Nda-A3-d1or7",
        "outputId": "66c7e2a6-02f4-437d-9f5f-1e11086b695d"
      },
      "id": "Nda-A3-d1or7",
      "execution_count": null,
      "outputs": [
        {
          "output_type": "display_data",
          "data": {
            "text/plain": [
              "[1] 11"
            ],
            "text/latex": "11",
            "text/markdown": "11",
            "text/html": [
              "11"
            ]
          },
          "metadata": {}
        }
      ]
    },
    {
      "cell_type": "markdown",
      "source": [
        "The answer is printed in the console as above. Now type `27/5` and run the cell"
      ],
      "metadata": {
        "id": "eRBeYApevlzx"
      },
      "id": "eRBeYApevlzx"
    },
    {
      "cell_type": "code",
      "source": [
        "27/5"
      ],
      "metadata": {
        "id": "eZCC_lJC1xPs"
      },
      "id": "eZCC_lJC1xPs",
      "execution_count": null,
      "outputs": []
    },
    {
      "cell_type": "markdown",
      "source": [
        "These calculations have just produced output in the console - no values have been saved.\n",
        "\n",
        "To save a value, it can be assigned to a data structure name.  This is done by drawing an arrow, like  `<-` The arrow points from the data you want to store towards the name you want to store it under. For now we'll use x, y and z as names of data structures, though more informative names can be used as discussed later in this section. \n",
        "\n",
        "We will assign the calculation 8 + 3 to the data structure x.\n",
        "\n",
        "If R has performed the command successfully you will not see any output, as the value of  8 + 3  has been saved to the data structure called x. You can access and use this data structure at any time and can print the value of x into the console."
      ],
      "metadata": {
        "id": "N3wyXq-ev9Pf"
      },
      "id": "N3wyXq-ev9Pf"
    },
    {
      "cell_type": "code",
      "source": [
        "x <- 8 + 3\n",
        "x"
      ],
      "metadata": {
        "colab": {
          "base_uri": "https://localhost:8080/",
          "height": 34
        },
        "id": "N6t82X_d2CEi",
        "outputId": "f42d927d-87fd-4b68-f790-cf29864c471a"
      },
      "id": "N6t82X_d2CEi",
      "execution_count": null,
      "outputs": [
        {
          "output_type": "display_data",
          "data": {
            "text/plain": [
              "[1] 11"
            ],
            "text/latex": "11",
            "text/markdown": "11",
            "text/html": [
              "11"
            ]
          },
          "metadata": {}
        }
      ]
    },
    {
      "cell_type": "markdown",
      "source": [
        "Create another data structure called y and assign the value 3 to it. In this case we’ll draw the arrow the other way around.  Functionally this is the same as the first example and it’s up to you whether you do data `->` name or name `<-` data. "
      ],
      "metadata": {
        "id": "EkQ46fkywZaf"
      },
      "id": "EkQ46fkywZaf"
    },
    {
      "cell_type": "code",
      "source": [
        "3 -> y\n",
        "y"
      ],
      "metadata": {
        "colab": {
          "base_uri": "https://localhost:8080/",
          "height": 34
        },
        "id": "H4ifpRtqwkNC",
        "outputId": "be2f9077-48ac-4119-f76d-dc8a2f3f8bca"
      },
      "id": "H4ifpRtqwkNC",
      "execution_count": null,
      "outputs": [
        {
          "output_type": "display_data",
          "data": {
            "text/plain": [
              "[1] 3"
            ],
            "text/latex": "3",
            "text/markdown": "3",
            "text/html": [
              "3"
            ]
          },
          "metadata": {}
        }
      ]
    },
    {
      "cell_type": "markdown",
      "source": [
        "Now that we know how to assign values to a data structure we can use` x `and` y` in a calculation."
      ],
      "metadata": {
        "id": "zy6LCxTBwz44"
      },
      "id": "zy6LCxTBwz44"
    },
    {
      "cell_type": "code",
      "source": [
        "x + y"
      ],
      "metadata": {
        "colab": {
          "base_uri": "https://localhost:8080/",
          "height": 34
        },
        "id": "VR4YiG5aw4U1",
        "outputId": "512c302d-c747-4ef6-a7cf-8194a0ec146f"
      },
      "id": "VR4YiG5aw4U1",
      "execution_count": null,
      "outputs": [
        {
          "output_type": "display_data",
          "data": {
            "text/plain": [
              "[1] 14"
            ],
            "text/latex": "14",
            "text/markdown": "14",
            "text/html": [
              "14"
            ]
          },
          "metadata": {}
        }
      ]
    },
    {
      "cell_type": "markdown",
      "source": [
        "#### Question: Modify the examples above to change the values of x to 21 and y to 37, what is the solution to the equation?"
      ],
      "metadata": {
        "id": "oRntFYUkxKHj"
      },
      "id": "oRntFYUkxKHj"
    },
    {
      "cell_type": "markdown",
      "source": [
        "Warning: R is case sensitive so x and X are not the same. If you try to print the value of X out into the console an error will be returned as X has not been used so far in this session."
      ],
      "metadata": {
        "id": "epsaKfaLxYTC"
      },
      "id": "epsaKfaLxYTC"
    },
    {
      "cell_type": "code",
      "source": [
        "X + y"
      ],
      "metadata": {
        "id": "ODyAUUzBxfX9"
      },
      "id": "ODyAUUzBxfX9",
      "execution_count": null,
      "outputs": []
    },
    {
      "cell_type": "markdown",
      "source": [
        "Using an equals sign also works in most situations, eg` x = 8+3`  but  `<-`  is generally preferred. However, if you enter a space between the less than and minus characters that make up the assignment operator then you would be asking R a question that has a logical answer i.e. is x less than -5."
      ],
      "metadata": {
        "id": "Od_biua7xntl"
      },
      "id": "Od_biua7xntl"
    },
    {
      "cell_type": "code",
      "source": [
        "x  =3\n",
        "x < - 5"
      ],
      "metadata": {
        "id": "95BwmmfgxuVD"
      },
      "id": "95BwmmfgxuVD",
      "execution_count": null,
      "outputs": []
    },
    {
      "cell_type": "markdown",
      "source": [
        "Data structures can be named anything you like (within reason), though they have to start with a letter. Having informative, descriptive names is useful and this often involves using more than one word. Providing there are no spaces between your words you can join them in various ways, using dots, underscores and capital letters though the Google R style guide recommends that names be joined with a full stop. \n",
        "\n",
        "\n",
        "Joining names by capitalising words is generally used for function names - don't worry about what these are for now - suffice to say it is not recommended to create names in the format  genomeSize; use genome_size or preferably genome.size. Numbers can be incorporated into the name as long as the name does not begin with a number."
      ],
      "metadata": {
        "id": "WL3ok3dix6pm"
      },
      "id": "WL3ok3dix6pm"
    },
    {
      "cell_type": "code",
      "source": [
        "genome.size <-112\n",
        "genome.size"
      ],
      "metadata": {
        "id": "h_rlomUcx_WX"
      },
      "id": "h_rlomUcx_WX",
      "execution_count": null,
      "outputs": []
    },
    {
      "cell_type": "markdown",
      "source": [
        "R has some built in data structures. The most popular for demonstrating statisitcal concepts is `lynx`, `mtcars` and `iris`. We will look at R Fisher's Iris dataset in detail when we explore machine learning.\n"
      ],
      "metadata": {
        "id": "JmpmVLg3yJmp"
      },
      "id": "JmpmVLg3yJmp"
    },
    {
      "cell_type": "markdown",
      "source": [
        "## Functions\n",
        "\n",
        "Most of the work that you do in R will involve the use of functions.  A function is simply a named set of code to allow you to manipulate your data in some way.  There are lots of built in functions in R and you can also write your own if there isn’t one which does exactly what you need.  \n",
        "\n",
        "\n",
        "Functions in R take the format function.name(parameter 1, parameter 2 … parameter n). The brackets are always needed. Some functions are very simple and the only parameter you need to pass to the function is the data that you want the function to act upon.\n",
        "\n",
        "\n",
        "For example, the function dim(data.structure) returns the dimensions (i.e. the numbers of rows and columns) of the data structure that you insert into the brackets, and it will not accept any additional arguments/parameters.\n",
        "\n",
        "\n",
        "Try this simple function out with the `lynx` data structure we encountered in the last page."
      ],
      "metadata": {
        "id": "v9sumFLqy8tC"
      },
      "id": "v9sumFLqy8tC"
    },
    {
      "cell_type": "code",
      "source": [
        "# return the dimensions of the lynx data structure\n",
        "dim(lynx)"
      ],
      "metadata": {
        "colab": {
          "base_uri": "https://localhost:8080/",
          "height": 34
        },
        "id": "bgVxi3EJzLOS",
        "outputId": "a9cd57ee-d21b-4379-e58a-764ca7d78825"
      },
      "id": "bgVxi3EJzLOS",
      "execution_count": null,
      "outputs": [
        {
          "output_type": "display_data",
          "data": {
            "text/plain": [
              "NULL"
            ]
          },
          "metadata": {}
        }
      ]
    },
    {
      "cell_type": "markdown",
      "source": [
        "So how do we cope with simple functions that will only accept a single parameter?\n",
        "\n",
        "For example:\n",
        "\n",
        "The square root and log10 functions can accept just one parameter as input. So if we wanted to identify the log10 of the square root of 245 we  would have to calculate by stages. First calculate the `sqrt(245)`, which is 15.65248, and then  log10 (15.65248).\n",
        "\n",
        "We can use data structures to keep it tidier. \n",
        "The following example assigns the `sqrt(245)` to x, and then calculates the log10 of x.\n"
      ],
      "metadata": {
        "id": "mOZL1GTYzS3T"
      },
      "id": "mOZL1GTYzS3T"
    },
    {
      "cell_type": "code",
      "source": [
        "x <- sqrt(245)\n",
        "log10(x)"
      ],
      "metadata": {
        "id": "VWrptSxEzbMa"
      },
      "id": "VWrptSxEzbMa",
      "execution_count": null,
      "outputs": []
    },
    {
      "cell_type": "markdown",
      "source": [
        "#### Question: Repeat the last example but this time starting with the value 356"
      ],
      "metadata": {
        "id": "o0pv8LG7zg6n"
      },
      "id": "o0pv8LG7zg6n"
    },
    {
      "cell_type": "markdown",
      "source": [
        "If you’re not sure of the parameters to pass to a function, or what additional parameters may be valid you can use the built in help to see this.  For example to access the help for the `read.table()` function you could do: `?read.table`"
      ],
      "metadata": {
        "id": "12ZZka5lz1-t"
      },
      "id": "12ZZka5lz1-t"
    },
    {
      "cell_type": "code",
      "source": [
        "?read.table"
      ],
      "metadata": {
        "id": "YjOjt3SAz98k"
      },
      "id": "YjOjt3SAz98k",
      "execution_count": null,
      "outputs": []
    },
    {
      "cell_type": "markdown",
      "source": [
        "...and you would be taken to the help page for the function."
      ],
      "metadata": {
        "id": "QarrzXhp0D-h"
      },
      "id": "QarrzXhp0D-h"
    },
    {
      "cell_type": "markdown",
      "source": [
        "#### Question: Repeat the last example to find a help page but this time for the function `dim`."
      ],
      "metadata": {
        "id": "JJ0mCKon0c5O"
      },
      "id": "JJ0mCKon0c5O"
    }
  ],
  "metadata": {
    "kernelspec": {
      "display_name": "R",
      "language": "R",
      "name": "ir"
    },
    "language_info": {
      "codemirror_mode": "r",
      "file_extension": ".r",
      "mimetype": "text/x-r-source",
      "name": "R",
      "pygments_lexer": "r",
      "version": "3.5.1"
    },
    "colab": {
      "name": "R_programming_language.ipynb",
      "provenance": [],
      "collapsed_sections": [],
      "include_colab_link": true
    }
  },
  "nbformat": 4,
  "nbformat_minor": 5
}